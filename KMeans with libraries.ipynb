{
 "cells": [
  {
   "cell_type": "markdown",
   "metadata": {},
   "source": [
    "# Notebook Imports"
   ]
  },
  {
   "cell_type": "code",
   "execution_count": 10,
   "metadata": {},
   "outputs": [],
   "source": [
    "from sklearn.cluster import KMeans\n",
    "import pandas as pd\n",
    "import numpy as np\n",
    "import random\n",
    "import matplotlib.pyplot as plt"
   ]
  },
  {
   "cell_type": "markdown",
   "metadata": {},
   "source": [
    "# Data"
   ]
  },
  {
   "cell_type": "code",
   "execution_count": 11,
   "metadata": {},
   "outputs": [],
   "source": [
    "random.seed(5)\n",
    "X = random.sample([[x, y] for x in range(100) for y in range(100)], 100)   \n",
    "#print(X)\n",
    "x = []\n",
    "y = []\n",
    "for i in range(len(X)):\n",
    "    x.append(X[i][0])\n",
    "    y.append(X[i][1])"
   ]
  },
  {
   "cell_type": "markdown",
   "metadata": {},
   "source": [
    "# Model"
   ]
  },
  {
   "cell_type": "code",
   "execution_count": 12,
   "metadata": {},
   "outputs": [],
   "source": [
    "kmeans = KMeans(n_clusters=3, random_state=0).fit(X)\n",
    "#print(kmeans.labels_)"
   ]
  },
  {
   "cell_type": "markdown",
   "metadata": {},
   "source": [
    "# Testing"
   ]
  },
  {
   "cell_type": "code",
   "execution_count": 13,
   "metadata": {},
   "outputs": [
    {
     "name": "stdout",
     "output_type": "stream",
     "text": [
      "Given point [20, 20] belongs to cluster:  [0]\n",
      "Cluster Center : \n",
      "[[50.25       24.47222222]\n",
      " [16.1875     67.125     ]\n",
      " [68.4375     81.9375    ]]\n"
     ]
    },
    {
     "data": {
      "image/png": "[encoded data removed]",
      "text/plain": [
       "<Figure size 576x432 with 1 Axes>"
      ]
     },
     "metadata": {
      "needs_background": "light"
     },
     "output_type": "display_data"
    }
   ],
   "source": [
    "#Enter a point here\n",
    "point = [20,20]\n",
    "print('Given point',point,'belongs to cluster: ',kmeans.predict([[20,20]]))\n",
    "print('Cluster Center : ')\n",
    "print(kmeans.cluster_centers_)\n",
    "\n",
    "#plot\n",
    "fig = plt.figure(figsize=[8,6])\n",
    "plt.scatter(x, y, color='magenta', alpha=0.6)\n",
    "plt.plot(kmeans.cluster_centers_[0][0],kmeans.cluster_centers_[0][1],'ro',\n",
    "         kmeans.cluster_centers_[1][0],kmeans.cluster_centers_[1][1],'go',\n",
    "         kmeans.cluster_centers_[2][0],kmeans.cluster_centers_[2][1],'bo',\n",
    "         point[0], point[1], 'co')\n",
    "plt.show()\n"
   ]
  }
 ],
 "metadata": {
  "kernelspec": {
   "display_name": "Python 3",
   "language": "python",
   "name": "python3"
  },
  "language_info": {
   "codemirror_mode": {
    "name": "ipython",
    "version": 3
   },
   "file_extension": ".py",
   "mimetype": "text/x-python",
   "name": "python",
   "nbconvert_exporter": "python",
   "pygments_lexer": "ipython3",
   "version": "3.7.3"
  }
 },
 "nbformat": 4,
 "nbformat_minor": 2
}
